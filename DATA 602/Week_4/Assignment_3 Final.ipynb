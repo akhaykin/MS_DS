{
 "cells": [
  {
   "cell_type": "code",
   "execution_count": 2,
   "metadata": {},
   "outputs": [
    {
     "name": "stdout",
     "output_type": "stream",
     "text": [
      "How about some bacon and eggs?\n"
     ]
    }
   ],
   "source": [
    "\n",
    "\"\"\"Q1: Write a program that prompts the user for a meal: breakfast, lunch, or dinner. Then using if statements and else statements print the user a message recommending a meal. For example, if the meal was breakfast, you could say something like, “How about some bacon and eggs?”\n",
    "The user may enter something else in, but you only have to respond to breakfast, lunch, or dinner.\"\"\"\n",
    "\n",
    "meal=input(\"What meak are you planning to eat? (breakfast, lunch , or dinner):\")\n",
    "if meal==\"breakfast\":\n",
    "    print(\"How about some bacon and eggs?\")\n",
    "if meal=='lunch':\n",
    "    print(\"How about the sandwich and salad?\")"
   ]
  },
  {
   "cell_type": "code",
   "execution_count": 8,
   "metadata": {},
   "outputs": [
    {
     "name": "stdout",
     "output_type": "stream",
     "text": [
      "Your gross pay for this week is: 700.0\n"
     ]
    }
   ],
   "source": [
    "\"\"\"Q2: The mailroom has asked you to design a simple payroll program that calculates a student employee’s gross pay, including any overtime wages. If any employee works over 20 hours in a week, the mailroom pays them 1.5 times their regular hourly pay rate for all hours over 20. \n",
    "You should take in the user’s input for the number of hours worked, and their rate of pay.\"\"\"\n",
    "\n",
    "hours_worked = float(input(\"Hours worked\"))\n",
    "hourly_wage = float(input(\"If more hours than 20 hours per week, you will be paid overtime\"))\n",
    "if hours_worked <= 20:\n",
    "    gross_pay = hours_worked * hourly_wage\n",
    "else:\n",
    "    regular_pay = hourly_wage * 20\n",
    "    overtime_hours = hours_worked - 20\n",
    "    overtime_pay = overtime_hours * hourly_wage * 1.5\n",
    "    gross_pay = regular_pay + overtime_pay\n",
    "print(\"Your gross pay for this week is:\", gross_pay )\n"
   ]
  },
  {
   "cell_type": "code",
   "execution_count": 6,
   "metadata": {},
   "outputs": [
    {
     "name": "stdout",
     "output_type": "stream",
     "text": [
      "100\n"
     ]
    }
   ],
   "source": [
    "\"\"\"Q3: Write a function named times_ten. The function should accept an argument and display the product of its argument multiplied times 10.\"\"\"\n",
    "\n",
    "def times_ten(num):\n",
    "\n",
    "    num = num * 10\n",
    "    print(num)\n",
    "\n",
    "times_ten(10)"
   ]
  },
  {
   "cell_type": "code",
   "execution_count": 24,
   "metadata": {},
   "outputs": [
    {
     "name": "stdout",
     "output_type": "stream",
     "text": [
      "The total calories you ate today:  200.0\n"
     ]
    }
   ],
   "source": [
    "\"\"\"Q4: Find the errors, debug the program, and then execute to show the output.\"\"\"\n",
    "\n",
    "def main():\n",
    "      Calories1 = float(input( \"How many calories are in the first food?\"))\n",
    "      Calories2 = float(input( \"How many calories are in the second food?\"))\n",
    "      showCalories(Calories1, Calories2)\n",
    "\n",
    "def showCalories(calories1, calories2):    \n",
    "    print(\"The total calories you ate today: %.2F\" %(calories1 + calories2))\n",
    "main()"
   ]
  },
  {
   "cell_type": "code",
   "execution_count": 25,
   "metadata": {},
   "outputs": [
    {
     "name": "stdout",
     "output_type": "stream",
     "text": [
      "93.84460105853213\n"
     ]
    }
   ],
   "source": [
    "\"\"\"Q5: Write a program that uses any loop (while or for) that calculates the total of the following series of numbers:\"\"\"\n",
    "\"\"\"1/30 + 2/29 + 3/28 ............. + 30/1\"\"\"\n",
    "\n",
    "total = 0\n",
    "for i in range(1, 31, 1):\n",
    "    j = 31 - i\n",
    "    total = total + i/j\n",
    "print(total)\n"
   ]
  },
  {
   "cell_type": "code",
   "execution_count": 34,
   "metadata": {},
   "outputs": [
    {
     "name": "stdout",
     "output_type": "stream",
     "text": [
      "25.0\n"
     ]
    }
   ],
   "source": [
    "\n",
    "\"\"\"Q6: Write a function that computes the area of a triangle given its base and height.\n",
    "The formula for an area of a triangle is:\n",
    "AREA = 1/2 * BASE * HEIGHT\"\"\"\n",
    "\n",
    "def triangle_area(BASE, HEIGHT):\n",
    "    AREA = .5 * BASE * HEIGHT \n",
    "    return AREA\n",
    "   \n",
    "print(triangle_area(2, 10))\n",
    "\n",
    "\n"
   ]
  },
  {
   "cell_type": "code",
   "execution_count": null,
   "metadata": {},
   "outputs": [],
   "source": []
  },
  {
   "cell_type": "code",
   "execution_count": null,
   "metadata": {},
   "outputs": [],
   "source": []
  }
 ],
 "metadata": {
  "kernelspec": {
   "display_name": "Python 3",
   "language": "python",
   "name": "python3"
  },
  "language_info": {
   "codemirror_mode": {
    "name": "ipython",
    "version": 3
   },
   "file_extension": ".py",
   "mimetype": "text/x-python",
   "name": "python",
   "nbconvert_exporter": "python",
   "pygments_lexer": "ipython3",
   "version": "3.11.1"
  },
  "orig_nbformat": 4,
  "vscode": {
   "interpreter": {
    "hash": "9054bcdf4822fa01419120c05e974bf1834c335abed533562edc5fff545bb25c"
   }
  }
 },
 "nbformat": 4,
 "nbformat_minor": 2
}
