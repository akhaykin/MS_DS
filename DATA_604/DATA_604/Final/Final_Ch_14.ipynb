{
 "cells": [
  {
   "cell_type": "markdown",
   "id": "infrared-shower",
   "metadata": {},
   "source": [
    "# Nondimensionalization"
   ]
  },
  {
   "cell_type": "markdown",
   "id": "documentary-steal",
   "metadata": {
    "tags": []
   },
   "source": [
    "*Modeling and Simulation in Python*\n",
    "\n",
    "Copyright 2021 Allen Downey\n",
    "\n",
    "License: [Creative Commons Attribution-NonCommercial-ShareAlike 4.0 International](https://creativecommons.org/licenses/by-nc-sa/4.0/)"
   ]
  },
  {
   "cell_type": "code",
   "execution_count": 33,
   "id": "earned-kidney",
   "metadata": {
    "tags": []
   },
   "outputs": [],
   "source": [
    "# download modsim.py if necessary\n",
    "\n",
    "from os.path import basename, exists\n",
    "\n",
    "def download(url):\n",
    "    filename = basename(url)\n",
    "    if not exists(filename):\n",
    "        from urllib.request import urlretrieve\n",
    "        local, _ = urlretrieve(url, filename)\n",
    "        print('Downloaded ' + local)\n",
    "    \n",
    "download('https://raw.githubusercontent.com/AllenDowney/' +\n",
    "         'ModSimPy/master/modsim.py')"
   ]
  },
  {
   "cell_type": "code",
   "execution_count": 34,
   "id": "forty-hammer",
   "metadata": {
    "tags": []
   },
   "outputs": [],
   "source": [
    "# import functions from modsim\n",
    "\n",
    "from modsim import *"
   ]
  },
  {
   "cell_type": "code",
   "execution_count": 35,
   "id": "middle-surge",
   "metadata": {
    "tags": []
   },
   "outputs": [],
   "source": [
    "download('https://github.com/AllenDowney/ModSimPy/raw/master/' +\n",
    "         'chap11.py')"
   ]
  },
  {
   "cell_type": "code",
   "execution_count": 36,
   "id": "hybrid-making",
   "metadata": {
    "tags": []
   },
   "outputs": [],
   "source": [
    "download('https://github.com/AllenDowney/ModSimPy/raw/master/' +\n",
    "         'chap12.py')"
   ]
  },
  {
   "cell_type": "code",
   "execution_count": 37,
   "id": "inclusive-characteristic",
   "metadata": {
    "tags": []
   },
   "outputs": [],
   "source": [
    "download('https://github.com/AllenDowney/ModSimPy/raw/master/' +\n",
    "         'chap13.py')"
   ]
  },
  {
   "cell_type": "code",
   "execution_count": 38,
   "id": "grave-occasions",
   "metadata": {
    "tags": []
   },
   "outputs": [],
   "source": [
    "# import code from previous notebooks\n",
    "\n",
    "from chap11 import make_system\n",
    "from chap11 import update_func\n",
    "from chap11 import run_simulation\n",
    "from chap11 import plot_results\n",
    "\n",
    "from chap12 import calc_total_infected\n",
    "\n",
    "from chap13 import sweep_beta\n",
    "from chap13 import sweep_parameters"
   ]
  },
  {
   "cell_type": "markdown",
   "id": "brief-trademark",
   "metadata": {},
   "source": [
    "In the previous chapter we swept the parameters of the Kermack-McKendrick (KM) model: the contact rate, `beta`, and the recovery rate, `gamma`.\n",
    "For each pair of parameters, we ran a simulation and computed the total fraction of the population infected.\n",
    "\n",
    "In this chapter we'll investigate the relationship between the parameters and this metric, using both simulation and analysis."
   ]
  },
  {
   "cell_type": "markdown",
   "id": "weekly-award",
   "metadata": {},
   "source": [
    "The figures in the previous chapter suggest that there is a relationship between the parameters of the KM model, `beta` and `gamma`, and the fraction of the population that is infected. Let's think what that relationship might be.\n",
    "\n",
    "-   When `beta` exceeds `gamma`, there are more contacts\n",
    "    than recoveries during each day. The difference between `beta` and `gamma` might be called the *excess contact rate*, in units of contacts per day.\n",
    "\n",
    "-   As an alternative, we might consider the ratio `beta/gamma`, which\n",
    "    is the number of contacts per recovery. Because the numerator and\n",
    "    denominator are in the same units, this ratio is *dimensionless*, which means it has no units.\n",
    "\n",
    "Describing physical systems using dimensionless parameters is often a\n",
    "useful move in the modeling and simulation game. In fact, it is so useful that it has a name: *nondimensionalization* (see\n",
    "<http://modsimpy.com/nondim>).\n",
    "So that's what we'll try first."
   ]
  },
  {
   "cell_type": "markdown",
   "id": "legendary-terrorism",
   "metadata": {},
   "source": [
    "## Exploring the Results\n",
    "\n",
    "In the previous chapter, we wrote a function, `sweep_parameters`,\n",
    "that takes an array of values for `beta` and an array of values for `gamma`.\n",
    "It runs a simulation for each pair of parameters and returns a `SweepFrame` with the results.\n",
    "\n",
    "I'll run it again with the following arrays of parameters."
   ]
  },
  {
   "cell_type": "code",
   "execution_count": 39,
   "id": "genetic-morris",
   "metadata": {},
   "outputs": [],
   "source": [
    "beta_array = [0.1, 0.2, 0.3, 0.4, 0.5, \n",
    "              0.6, 0.7, 0.8, 0.9, 1.0 , 1.1]\n",
    "gamma_array = [0.2, 0.4, 0.6, 0.8]\n",
    "frame = sweep_parameters(beta_array, gamma_array)"
   ]
  },
  {
   "cell_type": "markdown",
   "id": "hearing-cycle",
   "metadata": {},
   "source": [
    "Here's what the first few rows look like:"
   ]
  },
  {
   "cell_type": "code",
   "execution_count": 8,
   "id": "appointed-terrorist",
   "metadata": {},
   "outputs": [
    {
     "data": {
      "text/html": [
       "<div>\n",
       "<style scoped>\n",
       "    .dataframe tbody tr th:only-of-type {\n",
       "        vertical-align: middle;\n",
       "    }\n",
       "\n",
       "    .dataframe tbody tr th {\n",
       "        vertical-align: top;\n",
       "    }\n",
       "\n",
       "    .dataframe thead th {\n",
       "        text-align: right;\n",
       "    }\n",
       "</style>\n",
       "<table border=\"1\" class=\"dataframe\">\n",
       "  <thead>\n",
       "    <tr style=\"text-align: right;\">\n",
       "      <th></th>\n",
       "      <th>0.2</th>\n",
       "      <th>0.4</th>\n",
       "      <th>0.6</th>\n",
       "      <th>0.8</th>\n",
       "    </tr>\n",
       "    <tr>\n",
       "      <th>Parameter</th>\n",
       "      <th></th>\n",
       "      <th></th>\n",
       "      <th></th>\n",
       "      <th></th>\n",
       "    </tr>\n",
       "  </thead>\n",
       "  <tbody>\n",
       "    <tr>\n",
       "      <th>0.1</th>\n",
       "      <td>0.010756</td>\n",
       "      <td>0.003642</td>\n",
       "      <td>0.002191</td>\n",
       "      <td>0.001567</td>\n",
       "    </tr>\n",
       "    <tr>\n",
       "      <th>0.2</th>\n",
       "      <td>0.118984</td>\n",
       "      <td>0.010763</td>\n",
       "      <td>0.005447</td>\n",
       "      <td>0.003644</td>\n",
       "    </tr>\n",
       "    <tr>\n",
       "      <th>0.3</th>\n",
       "      <td>0.589095</td>\n",
       "      <td>0.030185</td>\n",
       "      <td>0.010771</td>\n",
       "      <td>0.006526</td>\n",
       "    </tr>\n",
       "    <tr>\n",
       "      <th>0.4</th>\n",
       "      <td>0.801339</td>\n",
       "      <td>0.131563</td>\n",
       "      <td>0.020917</td>\n",
       "      <td>0.010780</td>\n",
       "    </tr>\n",
       "    <tr>\n",
       "      <th>0.5</th>\n",
       "      <td>0.896577</td>\n",
       "      <td>0.396409</td>\n",
       "      <td>0.046140</td>\n",
       "      <td>0.017640</td>\n",
       "    </tr>\n",
       "  </tbody>\n",
       "</table>\n",
       "</div>"
      ],
      "text/plain": [
       "                0.2       0.4       0.6       0.8\n",
       "Parameter                                        \n",
       "0.1        0.010756  0.003642  0.002191  0.001567\n",
       "0.2        0.118984  0.010763  0.005447  0.003644\n",
       "0.3        0.589095  0.030185  0.010771  0.006526\n",
       "0.4        0.801339  0.131563  0.020917  0.010780\n",
       "0.5        0.896577  0.396409  0.046140  0.017640"
      ]
     },
     "execution_count": 8,
     "metadata": {},
     "output_type": "execute_result"
    }
   ],
   "source": [
    "frame.head()"
   ]
  },
  {
   "cell_type": "markdown",
   "id": "catholic-alfred",
   "metadata": {},
   "source": [
    "The `SweepFrame` has one row for each value of `beta` and one column for each value of `gamma`. \n",
    "We can print the values in the `SweepFrame` like this:"
   ]
  },
  {
   "cell_type": "code",
   "execution_count": 9,
   "id": "collected-waterproof",
   "metadata": {},
   "outputs": [
    {
     "name": "stdout",
     "output_type": "stream",
     "text": [
      "0.1 0.2 0.010756340768063644\n",
      "0.2 0.2 0.11898421353185373\n",
      "0.3 0.2 0.5890954199973404\n",
      "0.4 0.2 0.8013385277185551\n",
      "0.5 0.2 0.8965769637207062\n",
      "0.6 0.2 0.942929291399791\n",
      "0.7 0.2 0.966299311298026\n",
      "0.8 0.2 0.9781518959989762\n",
      "0.9 0.2 0.9840568957948106\n",
      "1.0 0.2 0.9868823507202488\n",
      "1.1 0.2 0.988148177093735\n",
      "0.1 0.4 0.0036416926514175607\n",
      "0.2 0.4 0.010763463373360094\n",
      "0.3 0.4 0.030184952469116566\n",
      "0.4 0.4 0.131562924303259\n",
      "0.5 0.4 0.3964094037932606\n",
      "0.6 0.4 0.5979016626615987\n",
      "0.7 0.4 0.7284704154876106\n",
      "0.8 0.4 0.8144604459153759\n",
      "0.9 0.4 0.8722697237137128\n",
      "1.0 0.4 0.9116692168795855\n",
      "1.1 0.4 0.9386802509510287\n",
      "0.1 0.6 0.002190722188881611\n",
      "0.2 0.6 0.005446688837466351\n",
      "0.3 0.6 0.010771139974975585\n",
      "0.4 0.6 0.020916599304195316\n",
      "0.5 0.6 0.04614035896610047\n",
      "0.6 0.6 0.13288938996079536\n",
      "0.7 0.6 0.3118432512847451\n",
      "0.8 0.6 0.47832565854255393\n",
      "0.9 0.6 0.605687582114665\n",
      "1.0 0.6 0.7014254793376209\n",
      "1.1 0.6 0.7738176405451065\n",
      "0.1 0.8 0.0015665254038139675\n",
      "0.2 0.8 0.003643953969662994\n",
      "0.3 0.8 0.006526163529085194\n",
      "0.4 0.8 0.010779807499500693\n",
      "0.5 0.8 0.017639902596349066\n",
      "0.6 0.8 0.030291868201986594\n",
      "0.7 0.8 0.05882382948158804\n",
      "0.8 0.8 0.13358889291095588\n",
      "0.9 0.8 0.2668895539427739\n",
      "1.0 0.8 0.40375121210421994\n",
      "1.1 0.8 0.519583469821867\n"
     ]
    }
   ],
   "source": [
    "for gamma in frame.columns:\n",
    "    column = frame[gamma]\n",
    "    for beta in column.index:\n",
    "        metric = column[beta]\n",
    "        print(beta, gamma, metric)"
   ]
  },
  {
   "cell_type": "markdown",
   "id": "unexpected-surgeon",
   "metadata": {},
   "source": [
    "This is the first example we've seen with one `for` loop inside another:\n",
    "\n",
    "-   Each time the outer loop runs, it selects a value of `gamma` from\n",
    "    the columns of the `SweepFrame` and extracts the corresponding\n",
    "    column.\n",
    "\n",
    "-   Each time the inner loop runs, it selects a value of `beta` from the index of the column and selects the corresponding element, which is the fraction of the population that got infected.\n",
    "\n",
    "Since there are 11 rows and 4 columns, the total number of lines in the output is 44.\n",
    "\n",
    "The following function uses the same loops to enumerate the elements of the `SweepFrame`, but instead of printing a line for each element, it plots a point."
   ]
  },
  {
   "cell_type": "code",
   "execution_count": 40,
   "id": "polar-flash",
   "metadata": {},
   "outputs": [],
   "source": [
    "from matplotlib.pyplot import plot\n",
    "\n",
    "def plot_sweep_frame(frame):\n",
    "    for gamma in frame.columns:\n",
    "        column = frame[gamma]\n",
    "        for beta in column.index:\n",
    "            metric = column[beta]\n",
    "            plot(beta/gamma, metric, '.', color='C1')"
   ]
  },
  {
   "cell_type": "markdown",
   "id": "shared-boxing",
   "metadata": {},
   "source": [
    "For each element of the `SweepFrame` it plots a point with the ratio `beta/gamma` as the $x$ coordinate and `metric` -- which is the fraction of the population that's infected -- as the $y$ coordinate.\n",
    "\n",
    "Here's what it looks like:"
   ]
  },
  {
   "cell_type": "code",
   "execution_count": 42,
   "id": "incorporate-launch",
   "metadata": {},
   "outputs": [
    {
     "data": {
      "image/png": "[encoded data removed]",
      "text/plain": [
       "<Figure size 450x300 with 1 Axes>"
      ]
     },
     "metadata": {},
     "output_type": "display_data"
    }
   ],
   "source": [
    "plot_sweep_frame(frame)\n",
    "\n",
    "decorate(xlabel='Contact number (beta/gamma)',\n",
    "         ylabel='Fraction infected')"
   ]
  },
  {
   "cell_type": "markdown",
   "id": "tropical-colony",
   "metadata": {},
   "source": [
    "The results fall on a single curve, at least approximately. That means that we can predict the fraction of the population that will be infected based on a single parameter, the ratio `beta/gamma`. We don't need to know the values of `beta` and `gamma` separately."
   ]
  },
  {
   "cell_type": "markdown",
   "id": "lightweight-surfing",
   "metadata": {},
   "source": [
    "## Contact Number\n",
    "\n",
    "From Chapter 11, recall that the number of new infections in a\n",
    "given day is $\\beta s i N$, and the number of recoveries is\n",
    "$\\gamma i N$. If we divide these quantities, the result is\n",
    "$\\beta s / \\gamma$, which is the number of new infections per recovery\n",
    "(as a fraction of the population).\n",
    "\n",
    "When a new disease is introduced to a susceptible population, $s$ is\n",
    "approximately 1, so the number of people infected by each sick person is $\\beta / \\gamma$. This ratio is called the *contact number* or *basic reproduction number* (see <http://modsimpy.com/contact>). By convention it is usually denoted $R_0$, but in the context of an SIR model, that notation is confusing, so we'll use $c$ instead."
   ]
  },
  {
   "cell_type": "markdown",
   "id": "banner-egyptian",
   "metadata": {},
   "source": [
    "The results in the previous section suggest that there is a relationship between $c$ and the total number of infections. We can derive this relationship by analyzing the differential equations from\n",
    "Chapter 11:\n",
    "\n",
    "$$\\begin{aligned}\n",
    "\\frac{ds}{dt} &= -\\beta s i \\\\\n",
    "\\frac{di}{dt} &= \\beta s i - \\gamma i\\\\\n",
    "\\frac{dr}{dt} &= \\gamma i\\end{aligned}$$ \n",
    "\n",
    "In the same way we divided the\n",
    "contact rate by the infection rate to get the dimensionless quantity\n",
    "$c$, now we'll divide $di/dt$ by $ds/dt$ to get a ratio of rates:\n",
    "\n",
    "$$\\frac{di}{ds} = \\frac{\\beta s i - \\gamma i}{-\\beta s i}$$ \n",
    "\n",
    "Which we can simplify as\n",
    "\n",
    "$$\\frac{di}{ds} = -1 + \\frac{\\gamma}{\\beta s}$$ \n",
    "\n",
    "Replacing $\\beta/\\gamma$ with $c$, we can write\n",
    "\n",
    "$$\\frac{di}{ds} = -1 + \\frac{1}{c s}$$ "
   ]
  },
  {
   "cell_type": "markdown",
   "id": "noticed-mouse",
   "metadata": {},
   "source": [
    "Dividing one differential equation by another is not an obvious move, but in this case it is useful because it gives us a relationship between $i$, $s$, and $c$ that does not depend on time. From that relationship, we can derive an equation that relates $c$ to the final value of $s$. In theory, this equation makes it possible to infer $c$ by observing the course of an epidemic."
   ]
  },
  {
   "cell_type": "markdown",
   "id": "accessible-bernard",
   "metadata": {},
   "source": [
    "Here's how the derivation goes. We multiply both sides of the previous\n",
    "equation by $ds$: \n",
    "\n",
    "$$di = \\left( -1 + \\frac{1}{cs} \\right) ds$$ \n",
    "\n",
    "And then integrate both sides: \n",
    "\n",
    "$$i = -s + \\frac{1}{c} \\log s + q$$ \n",
    "\n",
    "where $q$ is a constant of integration. Rearranging terms yields:\n",
    "\n",
    "$$q = i + s - \\frac{1}{c} \\log s$$ \n",
    "\n",
    "Now let's see if we can figure out what $q$ is. At the beginning of an epidemic, if the fraction infected is small and nearly everyone is susceptible, we can use the approximations $i(0) = 0$ and $s(0) = 1$ to compute $q$:\n",
    "\n",
    "$$q = 0 + 1 + \\frac{1}{c} \\log 1$$ \n",
    "\n",
    "Since $\\log 1 = 0$, we get $q = 1$."
   ]
  },
  {
   "cell_type": "markdown",
   "id": "instrumental-placement",
   "metadata": {},
   "source": [
    "Now, at the end of the epidemic, let's assume that $i(\\infty) = 0$, and $s(\\infty)$ is an unknown quantity, $s_{\\infty}$. Now we have:\n",
    "\n",
    "$$q = 1 = 0 + s_{\\infty}- \\frac{1}{c} \\log s_{\\infty}$$ \n",
    "\n",
    "Solving for $c$, we get \n",
    "\n",
    "$$c = \\frac{\\log s_{\\infty}}{s_{\\infty}- 1}$$ \n",
    "\n",
    "By relating $c$ and $s_{\\infty}$, this equation makes it possible to estimate $c$ based on data, and possibly predict the behavior of future epidemics."
   ]
  },
  {
   "cell_type": "markdown",
   "id": "under-dating",
   "metadata": {},
   "source": [
    "## Analysis and Simulation\n",
    "\n",
    "Let's compare this analytic result to the results from simulation. I'll create an array of values for $s_{\\infty}$."
   ]
  },
  {
   "cell_type": "code",
   "execution_count": 43,
   "id": "architectural-growth",
   "metadata": {},
   "outputs": [],
   "source": [
    "s_inf_array = linspace(0.003, 0.99, 50)"
   ]
  },
  {
   "cell_type": "markdown",
   "id": "oriented-turtle",
   "metadata": {},
   "source": [
    "And compute the corresponding values of $c$:"
   ]
  },
  {
   "cell_type": "code",
   "execution_count": 44,
   "id": "narrative-embassy",
   "metadata": {},
   "outputs": [],
   "source": [
    "from numpy import log\n",
    "\n",
    "c_array = log(s_inf_array) / (s_inf_array - 1)"
   ]
  },
  {
   "cell_type": "markdown",
   "id": "assisted-public",
   "metadata": {},
   "source": [
    "To get the total infected, we compute the difference between $s(0)$ and\n",
    "$s(\\infty)$, then store the results in a `Series`:"
   ]
  },
  {
   "cell_type": "code",
   "execution_count": 45,
   "id": "canadian-assumption",
   "metadata": {},
   "outputs": [],
   "source": [
    "frac_infected = 1 - s_inf_array"
   ]
  },
  {
   "cell_type": "markdown",
   "id": "published-generation",
   "metadata": {},
   "source": [
    "The ModSim library provides a function called `make_series` we can use to put `c_array` and `frac_infected` in a Pandas `Series`."
   ]
  },
  {
   "cell_type": "code",
   "execution_count": 46,
   "id": "antique-watch",
   "metadata": {},
   "outputs": [],
   "source": [
    "frac_infected_series = make_series(c_array, frac_infected)"
   ]
  },
  {
   "cell_type": "markdown",
   "id": "conscious-bathroom",
   "metadata": {},
   "source": [
    "Now we can plot the results:"
   ]
  },
  {
   "cell_type": "code",
   "execution_count": 16,
   "id": "fallen-router",
   "metadata": {},
   "outputs": [
    {
     "data": {
      "image/png": "[encoded data removed]",
      "text/plain": [
       "<Figure size 450x300 with 1 Axes>"
      ]
     },
     "metadata": {},
     "output_type": "display_data"
    }
   ],
   "source": [
    "plot_sweep_frame(frame)\n",
    "frac_infected_series.plot(label='analysis')\n",
    "\n",
    "decorate(xlabel='Contact number (c)',\n",
    "         ylabel='Fraction infected')"
   ]
  },
  {
   "cell_type": "markdown",
   "id": "billion-worthy",
   "metadata": {},
   "source": [
    "When the contact number exceeds 1, analysis and simulation agree. When\n",
    "the contact number is less than 1, they do not: analysis indicates there should be no infections; in the simulations there are a small number of infections.\n",
    "\n",
    "The reason for the discrepancy is that the simulation divides time into a discrete series of days, whereas the analysis treats time as a\n",
    "continuous quantity.\n",
    "When the contact number is large, these two models agree; when it is small, they diverge."
   ]
  },
  {
   "cell_type": "markdown",
   "id": "alternate-surprise",
   "metadata": {},
   "source": [
    "## Estimating Contact Number\n",
    "\n",
    "The previous figure shows that if we know the contact number, we can estimate the fraction of the population that will be infected with just a few arithmetic operations.\n",
    "We don't have to run a simulation.\n",
    "\n",
    "We can also read the figure the other way; if we know what fraction of the population was affected by a past outbreak, we can estimate the contact number.\n",
    "Then, if we know one of the parameters, like `gamma`, we can use the contact number to estimate the other parameter, like `beta`.\n",
    "\n",
    "At least in theory, we can.\n",
    "In practice, it might not work very well, because of the shape of the curve. \n",
    "\n",
    "* When the contact number is low, the curve is quite steep, which means that small changes in $c$ yield big changes in the number of infections. If we observe that the total fraction infected is anywhere from 20% to 80%, we would conclude that $c$ is near 2.\n",
    "\n",
    "* And when the contact number is high, the curve is nearly flat, which means that it's hard to see the difference between values of $c$ between 3 and 6.\n",
    "\n",
    "With the uncertainty of real data, we might not be able to estimate $c$ with much precision.\n",
    "But as one of the exercises below, you'll have a chance to try."
   ]
  },
  {
   "cell_type": "markdown",
   "id": "related-council",
   "metadata": {},
   "source": [
    "## Summary\n",
    "\n",
    "In this chapter we used simulations to explore the relationship between `beta`, `gamma`, and the fraction infected.\n",
    "Then we used analysis to explain that relationship.\n",
    "\n",
    "With that, we are done with the Kermack-McKendrick model.\n",
    "In the next chapter we'll move on to thermal systems and the notorious coffee cooling problem."
   ]
  },
  {
   "cell_type": "markdown",
   "id": "removed-conviction",
   "metadata": {},
   "source": [
    "## Exercises\n",
    "\n",
    "This chapter is available as a Jupyter notebook where you can read the text, run the code, and work on the exercises. \n",
    "You can access the notebooks at <https://allendowney.github.io/ModSimPy/>."
   ]
  },
  {
   "cell_type": "markdown",
   "id": "textile-program",
   "metadata": {},
   "source": [
    "### Exercise 1\n",
    "\n",
    " At the beginning of this chapter, I suggested two ways to relate `beta` and `gamma`: we could compute their difference or their ratio.\n",
    "\n",
    "Because the ratio is dimensionless, I suggested we explore it first, and that led us to discover the contact number, which is `beta/gamma`.\n",
    "When we plotted the fraction infected as a function of the contact number, we found that this metric falls on a single curve, at least approximately.\n",
    "That indicates that the ratio is enough to predict the results; we don't have to know `beta` and `gamma` individually. \n",
    "\n",
    "But that leaves a question open: what happens if we do the same thing using the difference instead of the ratio?\n",
    "\n",
    "Write a version of `plot_sweep_frame`, called `plot_sweep_frame_difference`, that plots the fraction infected versus the difference `beta-gamma`.\n",
    "\n",
    "What do the results look like, and what does that imply? "
   ]
  },
  {
   "cell_type": "code",
   "execution_count": 48,
   "id": "current-tiger",
   "metadata": {},
   "outputs": [],
   "source": [
    "import numpy as np\n",
    "import matplotlib.pyplot as plt\n",
    "\n",
    "def plot_sweep_frame_difference(beta_array, gamma_array, infected_array, legend=True):\n",
    "    for i in range(len(beta_array)):\n",
    "        difference = beta_array[i] - gamma_array[i]\n",
    "        plt.plot(difference, infected_array[i], 'bo', label=f'beta-gamma={difference:.2f}')\n",
    "    \n",
    "    plt.xlabel('Difference (beta - gamma)')\n",
    "    plt.ylabel('Fraction Infected')\n",
    "    plt.title('Fraction Infected vs. Difference (beta - gamma)')\n",
    "    \n",
    "    plt.grid(True)\n",
    "    plt.show()"
   ]
  },
  {
   "cell_type": "code",
   "execution_count": 49,
   "id": "specialized-regression",
   "metadata": {},
   "outputs": [
    {
     "data": {
      "image/png": "[encoded data removed]",
      "text/plain": [
       "<Figure size 450x300 with 1 Axes>"
      ]
     },
     "metadata": {},
     "output_type": "display_data"
    }
   ],
   "source": [
    "beta_array = np.linspace(0.1, 2.0, 20)\n",
    "gamma_array = np.linspace(0.05, 1.0, 20)\n",
    "infected_array = np.random.random(20)\n",
    "\n",
    "plot_sweep_frame_difference(beta_array, gamma_array, infected_array)"
   ]
  },
  {
   "cell_type": "markdown",
   "id": "angry-perfume",
   "metadata": {},
   "source": [
    "### Exercise 2\n",
    "\n",
    " Suppose you run a survey at the end of the semester and find that 26% of students had the Freshman Plague at some point.\n",
    "What is your best estimate of `c`?\n",
    "\n",
    "Hint: if you display `frac_infected_series`, you can read off the answer. "
   ]
  },
  {
   "cell_type": "code",
   "execution_count": 19,
   "id": "surgical-mouth",
   "metadata": {
    "scrolled": true
   },
   "outputs": [
    {
     "data": {
      "image/png": "[encoded data removed]",
      "text/plain": [
       "<Figure size 450x300 with 1 Axes>"
      ]
     },
     "metadata": {},
     "output_type": "display_data"
    }
   ],
   "source": [
    "import matplotlib.pyplot as plt\n",
    "\n",
    "# Plot the frac_infected_series\n",
    "plt.plot(frac_infected_series, label='Fraction Infected')\n",
    "plt.xlabel('Time')\n",
    "plt.ylabel('Fraction Infected')\n",
    "plt.title('Fraction Infected over Time')\n",
    "plt.legend()\n",
    "plt.grid(True)\n",
    "plt.show()"
   ]
  },
  {
   "cell_type": "markdown",
   "id": "charged-sample",
   "metadata": {},
   "source": [
    "### Exercise 3\n",
    "\n",
    "So far the only metric we have considered is the total fraction of the population that gets infected over the course of an epidemic.  That is an important metric, but it is not the only one we care about.\n",
    "\n",
    "For example, if we have limited resources to deal with infected people, we might also be concerned about the number of people who are sick at the peak of the epidemic, which is the maximum of `I`.\n",
    "\n",
    "Write a version of `sweep_beta` that computes this metric, and use it to compute a `SweepFrame` for a range of values of `beta` and `gamma`.\n",
    "Make a contour plot that shows the value of this metric as a function of `beta` and `gamma`.\n",
    "\n",
    "Then use `plot_sweep_frame` to plot the maximum of `I` as a function of the contact number, `beta/gamma`.\n",
    "Do the results fall on a single curve?"
   ]
  },
  {
   "cell_type": "code",
   "execution_count": 79,
   "id": "greatest-palestine",
   "metadata": {},
   "outputs": [],
   "source": [
    "def sweep_beta_max(beta_array, gamma):\n",
    "    sweep = SweepSeries()\n",
    "    #frame = SweepSeries(columns=['beta', 'gamma', 'max_infected'])\n",
    "\n",
    "    for beta in beta_array:\n",
    "        system = make_system(beta, gamma)\n",
    "        results = run_simulation(system, update_func)\n",
    "        #max_infected = max(results.i)\n",
    "        #frame.row(beta=beta, gamma=gamma, max_infected=max_infected)\n",
    "        sweep[beta]=results.i.max()\n",
    "\n",
    "    return sweep"
   ]
  },
  {
   "cell_type": "code",
   "execution_count": 80,
   "id": "37835019",
   "metadata": {},
   "outputs": [],
   "source": [
    "def sweep_parameters_max(beta_array, gamma_array):\n",
    "    frame=SweepFrame(columns=gamma_array)\n",
    "    for gamma in gamma_array:\n",
    "        frame[gamma]=sweep_beta_max(beta_array, gamma)\n",
    "    return frame"
   ]
  },
  {
   "cell_type": "code",
   "execution_count": 81,
   "id": "2f35d2a5",
   "metadata": {},
   "outputs": [],
   "source": [
    "import numpy as np\n",
    "import matplotlib.pyplot as plt\n",
    "\n",
    "# Define the parameter ranges\n",
    "beta_array = np.linspace(0.1, 2.0, 20)\n",
    "gamma_array = np.linspace(0.05, 1.0, 20)\n",
    "\n",
    "# Compute the SweepFrame\n",
    "frame = sweep_parameters_max(beta_array, gamma_array)"
   ]
  },
  {
   "cell_type": "code",
   "execution_count": 83,
   "id": "80964318",
   "metadata": {},
   "outputs": [
    {
     "data": {
      "text/html": [
       "<div>\n",
       "<style scoped>\n",
       "    .dataframe tbody tr th:only-of-type {\n",
       "        vertical-align: middle;\n",
       "    }\n",
       "\n",
       "    .dataframe tbody tr th {\n",
       "        vertical-align: top;\n",
       "    }\n",
       "\n",
       "    .dataframe thead th {\n",
       "        text-align: right;\n",
       "    }\n",
       "</style>\n",
       "<table border=\"1\" class=\"dataframe\">\n",
       "  <thead>\n",
       "    <tr style=\"text-align: right;\">\n",
       "      <th></th>\n",
       "      <th>0.05</th>\n",
       "      <th>0.10</th>\n",
       "      <th>0.15</th>\n",
       "      <th>0.20</th>\n",
       "      <th>0.25</th>\n",
       "      <th>0.30</th>\n",
       "      <th>0.35</th>\n",
       "      <th>0.40</th>\n",
       "      <th>0.45</th>\n",
       "      <th>0.50</th>\n",
       "      <th>0.55</th>\n",
       "      <th>0.60</th>\n",
       "      <th>0.65</th>\n",
       "      <th>0.70</th>\n",
       "      <th>0.75</th>\n",
       "      <th>0.80</th>\n",
       "      <th>0.85</th>\n",
       "      <th>0.90</th>\n",
       "      <th>0.95</th>\n",
       "      <th>1.00</th>\n",
       "    </tr>\n",
       "    <tr>\n",
       "      <th>Parameter</th>\n",
       "      <th></th>\n",
       "      <th></th>\n",
       "      <th></th>\n",
       "      <th></th>\n",
       "      <th></th>\n",
       "      <th></th>\n",
       "      <th></th>\n",
       "      <th></th>\n",
       "      <th></th>\n",
       "      <th></th>\n",
       "      <th></th>\n",
       "      <th></th>\n",
       "      <th></th>\n",
       "      <th></th>\n",
       "      <th></th>\n",
       "      <th></th>\n",
       "      <th></th>\n",
       "      <th></th>\n",
       "      <th></th>\n",
       "      <th></th>\n",
       "    </tr>\n",
       "  </thead>\n",
       "  <tbody>\n",
       "    <tr>\n",
       "      <th>0.1</th>\n",
       "      <td>0.160936</td>\n",
       "      <td>0.011111</td>\n",
       "      <td>0.011111</td>\n",
       "      <td>0.011111</td>\n",
       "      <td>0.011111</td>\n",
       "      <td>0.011111</td>\n",
       "      <td>0.011111</td>\n",
       "      <td>0.011111</td>\n",
       "      <td>0.011111</td>\n",
       "      <td>0.011111</td>\n",
       "      <td>0.011111</td>\n",
       "      <td>0.011111</td>\n",
       "      <td>0.011111</td>\n",
       "      <td>0.011111</td>\n",
       "      <td>0.011111</td>\n",
       "      <td>0.011111</td>\n",
       "      <td>0.011111</td>\n",
       "      <td>0.011111</td>\n",
       "      <td>0.011111</td>\n",
       "      <td>0.011111</td>\n",
       "    </tr>\n",
       "    <tr>\n",
       "      <th>0.2</th>\n",
       "      <td>0.416309</td>\n",
       "      <td>0.162918</td>\n",
       "      <td>0.043297</td>\n",
       "      <td>0.011111</td>\n",
       "      <td>0.011111</td>\n",
       "      <td>0.011111</td>\n",
       "      <td>0.011111</td>\n",
       "      <td>0.011111</td>\n",
       "      <td>0.011111</td>\n",
       "      <td>0.011111</td>\n",
       "      <td>0.011111</td>\n",
       "      <td>0.011111</td>\n",
       "      <td>0.011111</td>\n",
       "      <td>0.011111</td>\n",
       "      <td>0.011111</td>\n",
       "      <td>0.011111</td>\n",
       "      <td>0.011111</td>\n",
       "      <td>0.011111</td>\n",
       "      <td>0.011111</td>\n",
       "      <td>0.011111</td>\n",
       "    </tr>\n",
       "    <tr>\n",
       "      <th>0.3</th>\n",
       "      <td>0.554204</td>\n",
       "      <td>0.316006</td>\n",
       "      <td>0.164857</td>\n",
       "      <td>0.072516</td>\n",
       "      <td>0.024471</td>\n",
       "      <td>0.011111</td>\n",
       "      <td>0.011111</td>\n",
       "      <td>0.011111</td>\n",
       "      <td>0.011111</td>\n",
       "      <td>0.011111</td>\n",
       "      <td>0.011111</td>\n",
       "      <td>0.011111</td>\n",
       "      <td>0.011111</td>\n",
       "      <td>0.011111</td>\n",
       "      <td>0.011111</td>\n",
       "      <td>0.011111</td>\n",
       "      <td>0.011111</td>\n",
       "      <td>0.011111</td>\n",
       "      <td>0.011111</td>\n",
       "      <td>0.011111</td>\n",
       "    </tr>\n",
       "    <tr>\n",
       "      <th>0.4</th>\n",
       "      <td>0.641151</td>\n",
       "      <td>0.426567</td>\n",
       "      <td>0.275241</td>\n",
       "      <td>0.166749</td>\n",
       "      <td>0.091977</td>\n",
       "      <td>0.043988</td>\n",
       "      <td>0.018275</td>\n",
       "      <td>0.011111</td>\n",
       "      <td>0.011111</td>\n",
       "      <td>0.011111</td>\n",
       "      <td>0.011111</td>\n",
       "      <td>0.011111</td>\n",
       "      <td>0.011111</td>\n",
       "      <td>0.011111</td>\n",
       "      <td>0.011111</td>\n",
       "      <td>0.011111</td>\n",
       "      <td>0.011111</td>\n",
       "      <td>0.011111</td>\n",
       "      <td>0.011111</td>\n",
       "      <td>0.011111</td>\n",
       "    </tr>\n",
       "    <tr>\n",
       "      <th>0.5</th>\n",
       "      <td>0.699830</td>\n",
       "      <td>0.508432</td>\n",
       "      <td>0.365176</td>\n",
       "      <td>0.253206</td>\n",
       "      <td>0.168882</td>\n",
       "      <td>0.105744</td>\n",
       "      <td>0.060822</td>\n",
       "      <td>0.031455</td>\n",
       "      <td>0.015531</td>\n",
       "      <td>0.011111</td>\n",
       "      <td>0.011111</td>\n",
       "      <td>0.011111</td>\n",
       "      <td>0.011111</td>\n",
       "      <td>0.011111</td>\n",
       "      <td>0.011111</td>\n",
       "      <td>0.011111</td>\n",
       "      <td>0.011111</td>\n",
       "      <td>0.011111</td>\n",
       "      <td>0.011111</td>\n",
       "      <td>0.011111</td>\n",
       "    </tr>\n",
       "  </tbody>\n",
       "</table>\n",
       "</div>"
      ],
      "text/plain": [
       "               0.05      0.10      0.15      0.20      0.25      0.30  \\\n",
       "Parameter                                                               \n",
       "0.1        0.160936  0.011111  0.011111  0.011111  0.011111  0.011111   \n",
       "0.2        0.416309  0.162918  0.043297  0.011111  0.011111  0.011111   \n",
       "0.3        0.554204  0.316006  0.164857  0.072516  0.024471  0.011111   \n",
       "0.4        0.641151  0.426567  0.275241  0.166749  0.091977  0.043988   \n",
       "0.5        0.699830  0.508432  0.365176  0.253206  0.168882  0.105744   \n",
       "\n",
       "               0.35      0.40      0.45      0.50      0.55      0.60  \\\n",
       "Parameter                                                               \n",
       "0.1        0.011111  0.011111  0.011111  0.011111  0.011111  0.011111   \n",
       "0.2        0.011111  0.011111  0.011111  0.011111  0.011111  0.011111   \n",
       "0.3        0.011111  0.011111  0.011111  0.011111  0.011111  0.011111   \n",
       "0.4        0.018275  0.011111  0.011111  0.011111  0.011111  0.011111   \n",
       "0.5        0.060822  0.031455  0.015531  0.011111  0.011111  0.011111   \n",
       "\n",
       "               0.65      0.70      0.75      0.80      0.85      0.90  \\\n",
       "Parameter                                                               \n",
       "0.1        0.011111  0.011111  0.011111  0.011111  0.011111  0.011111   \n",
       "0.2        0.011111  0.011111  0.011111  0.011111  0.011111  0.011111   \n",
       "0.3        0.011111  0.011111  0.011111  0.011111  0.011111  0.011111   \n",
       "0.4        0.011111  0.011111  0.011111  0.011111  0.011111  0.011111   \n",
       "0.5        0.011111  0.011111  0.011111  0.011111  0.011111  0.011111   \n",
       "\n",
       "               0.95      1.00  \n",
       "Parameter                      \n",
       "0.1        0.011111  0.011111  \n",
       "0.2        0.011111  0.011111  \n",
       "0.3        0.011111  0.011111  \n",
       "0.4        0.011111  0.011111  \n",
       "0.5        0.011111  0.011111  "
      ]
     },
     "execution_count": 83,
     "metadata": {},
     "output_type": "execute_result"
    }
   ],
   "source": [
    "frame.head()"
   ]
  },
  {
   "cell_type": "code",
   "execution_count": 85,
   "id": "acae48e2",
   "metadata": {},
   "outputs": [
    {
     "data": {
      "image/png": "[encoded data removed]",
      "text/plain": [
       "<Figure size 450x300 with 1 Axes>"
      ]
     },
     "metadata": {},
     "output_type": "display_data"
    }
   ],
   "source": [
    "contour(frame)\n",
    "decorate(xlabel='recovery rate,gamma',ylabel='contact,beta', title='maximum infected')"
   ]
  },
  {
   "cell_type": "markdown",
   "id": "editorial-coating",
   "metadata": {},
   "source": [
    "## Under the Hood\n",
    "\n",
    "ModSim provides `make_series` to make it easier to create a Pandas Series.  In this chapter, we used it like this: "
   ]
  },
  {
   "cell_type": "code",
   "execution_count": 86,
   "id": "corresponding-india",
   "metadata": {},
   "outputs": [],
   "source": [
    "frac_infected_series = make_series(c_array, frac_infected)"
   ]
  },
  {
   "cell_type": "markdown",
   "id": "comparable-strap",
   "metadata": {},
   "source": [
    "If you import `Series` from Pandas, you can make a `Series` yourself, like this:"
   ]
  },
  {
   "cell_type": "code",
   "execution_count": 87,
   "id": "constant-christianity",
   "metadata": {},
   "outputs": [],
   "source": [
    "from pandas import Series\n",
    "\n",
    "frac_infected_series = Series(frac_infected, c_array)"
   ]
  },
  {
   "cell_type": "markdown",
   "id": "wireless-president",
   "metadata": {},
   "source": [
    "The difference is that the arguments are in reverse order: the first argument is stored as the values in the `Series`; the second argument is stored as the index.\n",
    "\n",
    "I find that order counterintuitive, which is why I use `make_series`.\n",
    "`make_series` takes the same optional keyword arguments as `Series`, which you can read about at <https://pandas.pydata.org/pandas-docs/stable/reference/api/pandas.Series.html>."
   ]
  },
  {
   "cell_type": "code",
   "execution_count": null,
   "id": "hidden-recipient",
   "metadata": {},
   "outputs": [],
   "source": []
  }
 ],
 "metadata": {
  "celltoolbar": "Tags",
  "kernelspec": {
   "display_name": "Python 3 (ipykernel)",
   "language": "python",
   "name": "python3"
  },
  "language_info": {
   "codemirror_mode": {
    "name": "ipython",
    "version": 3
   },
   "file_extension": ".py",
   "mimetype": "text/x-python",
   "name": "python",
   "nbconvert_exporter": "python",
   "pygments_lexer": "ipython3",
   "version": "3.9.13"
  }
 },
 "nbformat": 4,
 "nbformat_minor": 5
}
