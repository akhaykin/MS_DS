{
 "cells": [
  {
   "cell_type": "code",
   "execution_count": 1,
   "id": "2f418027",
   "metadata": {},
   "outputs": [
    {
     "name": "stdout",
     "output_type": "stream",
     "text": [
      "Outcome\tFrequency\n",
      "-----------------\n",
      "1\t170\n",
      "2\t171\n",
      "3\t162\n",
      "4\t148\n",
      "5\t179\n",
      "6\t170\n"
     ]
    }
   ],
   "source": [
    "import random\n",
    "\n",
    "def roll_dice():\n",
    "    return random.randint(1, 6)\n",
    "\n",
    "def simulate_game(num_simulations):\n",
    "    outcomes = [0, 0, 0, 0, 0, 0]  # Store the frequency of each outcome\n",
    "    \n",
    "    for _ in range(num_simulations):\n",
    "        outcome = roll_dice()\n",
    "        outcomes[outcome - 1] += 1\n",
    "\n",
    "    return outcomes\n",
    "\n",
    "# Run the simulation\n",
    "num_simulations = 1000\n",
    "results = simulate_game(num_simulations)\n",
    "\n",
    "# Interpret the outcome\n",
    "print(\"Outcome\\tFrequency\")\n",
    "print(\"-----------------\")\n",
    "for i, freq in enumerate(results):\n",
    "    outcome = i + 1\n",
    "    print(f\"{outcome}\\t{freq}\")"
   ]
  },
  {
   "cell_type": "code",
   "execution_count": null,
   "id": "89b3f458",
   "metadata": {},
   "outputs": [],
   "source": []
  }
 ],
 "metadata": {
  "kernelspec": {
   "display_name": "Python 3 (ipykernel)",
   "language": "python",
   "name": "python3"
  },
  "language_info": {
   "codemirror_mode": {
    "name": "ipython",
    "version": 3
   },
   "file_extension": ".py",
   "mimetype": "text/x-python",
   "name": "python",
   "nbconvert_exporter": "python",
   "pygments_lexer": "ipython3",
   "version": "3.10.9"
  }
 },
 "nbformat": 4,
 "nbformat_minor": 5
}
