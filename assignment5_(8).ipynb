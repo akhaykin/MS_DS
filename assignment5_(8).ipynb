{
  "cells": [
    {
      "cell_type": "markdown",
      "metadata": {
        "id": "view-in-github",
        "colab_type": "text"
      },
      "source": [
        "<a href=\"https://colab.research.google.com/github/akhaykin/MS_DS/blob/master/assignment5_(8).ipynb\" target=\"_parent\"><img src=\"https://colab.research.google.com/assets/colab-badge.svg\" alt=\"Open In Colab\"/></a>"
      ]
    },
    {
      "cell_type": "code",
      "execution_count": null,
      "metadata": {
        "id": "dt9Z7QfXjdnq"
      },
      "outputs": [],
      "source": [
        "'''\n",
        "Assignment #5\n",
        "1. Add / modify code ONLY between the marked areas (i.e. \"Place code below\") \n",
        "2. Run the associated test harness for a basic check on completeness. A successful run of the test cases does not guarantee accuracy or fulfillment of the requirements. Please do not submit your work if test cases fail.\n",
        "3. To run unit tests simply use the below command after filling in all of the code:\n",
        "    python 05_assignment.py\n",
        "  \n",
        "4. Unless explicitly stated, please do not import any additional libraries but feel free to use built-in Python packages\n",
        "5. Submissions must be a Python file and not a notebook file (i.e *.ipynb)\n",
        "6. Do not use global variables\n",
        "'''\n",
        "\n",
        "\n",
        "import numpy as np, pandas as pd, matplotlib.pyplot as plt\n",
        "import unittest\n",
        "import requests\n",
        "import json\n"
      ]
    },
    {
      "cell_type": "code",
      "execution_count": null,
      "metadata": {
        "id": "DunZQAUgjdnv",
        "outputId": "191a8776-5096-4411-ab02-b6c0cd36d175"
      },
      "outputs": [
        {
          "data": {
            "text/html": [
              "<div>\n",
              "<style scoped>\n",
              "    .dataframe tbody tr th:only-of-type {\n",
              "        vertical-align: middle;\n",
              "    }\n",
              "\n",
              "    .dataframe tbody tr th {\n",
              "        vertical-align: top;\n",
              "    }\n",
              "\n",
              "    .dataframe thead th {\n",
              "        text-align: right;\n",
              "    }\n",
              "</style>\n",
              "<table border=\"1\" class=\"dataframe\">\n",
              "  <thead>\n",
              "    <tr style=\"text-align: right;\">\n",
              "      <th></th>\n",
              "      <th>0</th>\n",
              "      <th>1</th>\n",
              "      <th>2</th>\n",
              "      <th>3</th>\n",
              "    </tr>\n",
              "  </thead>\n",
              "  <tbody>\n",
              "    <tr>\n",
              "      <th>0</th>\n",
              "      <td>1</td>\n",
              "      <td>2</td>\n",
              "      <td>3</td>\n",
              "      <td>4</td>\n",
              "    </tr>\n",
              "    <tr>\n",
              "      <th>1</th>\n",
              "      <td>5</td>\n",
              "      <td>6</td>\n",
              "      <td>7</td>\n",
              "      <td>8</td>\n",
              "    </tr>\n",
              "    <tr>\n",
              "      <th>2</th>\n",
              "      <td>7</td>\n",
              "      <td>8</td>\n",
              "      <td>9</td>\n",
              "      <td>10</td>\n",
              "    </tr>\n",
              "  </tbody>\n",
              "</table>\n",
              "</div>"
            ],
            "text/plain": [
              "   0  1  2   3\n",
              "0  1  2  3   4\n",
              "1  5  6  7   8\n",
              "2  7  8  9  10"
            ]
          },
          "execution_count": 76,
          "metadata": {},
          "output_type": "execute_result"
        }
      ],
      "source": [
        "def exercise01():\n",
        "    df = None\n",
        "    '''\n",
        "    Create a DataFrame df with 4 columns and 3 rows of data in one line of code. The data can be arbitrary integers.\n",
        "    For example\n",
        "    \n",
        "               0  1  2   3\n",
        "            0  1  2  3   4\n",
        "            1  5  6  7   8\n",
        "            2  7  8  9  10\n",
        "    '''\n",
        "\n",
        "\n",
        "    # ------ Place code below here \\/ \\/ \\/ ------\n",
        "    # simple list of lists as source for the dataframe\n",
        "    data = [[1,2,3,4], [5,6,7,8], [7,8,9,10]]\n",
        "    df = pd.DataFrame(data)\n",
        "   \n",
        "    # ------ Place code above here /\\ /\\ /\\ ------\n",
        "\n",
        "\n",
        "    return df\n",
        "exercise01()"
      ]
    },
    {
      "cell_type": "code",
      "execution_count": null,
      "metadata": {
        "id": "ktJ3veFQjdn0"
      },
      "outputs": [],
      "source": [
        "def exercise02(a):\n",
        "    # The function exercise02() receives a Python list and converts it to an ndarray. \n",
        "    # Convert the list to a numpy ndarray called array.\n",
        "\n",
        "\n",
        "    # ------ Place code below here \\/ \\/ \\/ ------\n",
        "    array = np.asarray(a)\n",
        "    print(type(array))\n",
        "    \n",
        "    # ------ Place code above here /\\ /\\ /\\ ------\n",
        "\n",
        "    return array\n",
        "\n"
      ]
    },
    {
      "cell_type": "code",
      "execution_count": null,
      "metadata": {
        "id": "3EbSjgggjdn3"
      },
      "outputs": [],
      "source": [
        "def exercise03(a):\n",
        "    # The function exercise03() receives an ndarray of integers. Return the sum of those integers using NumPy.\n",
        "\n",
        "\n",
        "    # ------ Place code below here \\/ \\/ \\/ ------\n",
        "    sum = np.sum(a)\n",
        "    print('In Exercise 3 sum is', sum)\n",
        "\n",
        "    # ------ Place code above here /\\ /\\ /\\ ------\n",
        "    return sum\n"
      ]
    },
    {
      "cell_type": "code",
      "execution_count": null,
      "metadata": {
        "id": "TAQfh8zVjdn6"
      },
      "outputs": [],
      "source": [
        "def exercise04(a):\n",
        "    # The function exercise04() receives an ndarray matrix (2D) of integers. \n",
        "    # Return the sum of the 2nd column using NumPy.\n",
        "\n",
        "\n",
        "    # ------ Place code below here \\/ \\/ \\/ ------\n",
        "    sum = None\n",
        "    sum = np.sum(a[:, 1])\n",
        "    print(f'The sum of column 2 at index 1 for {a} is {sum}')\n",
        "\n",
        "    # ------ Place code above here /\\ /\\ /\\ ------\n",
        " \n",
        "    return sum"
      ]
    },
    {
      "cell_type": "code",
      "execution_count": null,
      "metadata": {
        "id": "fbjkldojjdn7"
      },
      "outputs": [],
      "source": [
        "def exercise05(n):\n",
        "    # The function exercise05() receives an integer n. Return an ndarray filled with zeros of size n x n (n rows, n columns)\n",
        "\n",
        "\n",
        "    # ------ Place code below here \\/ \\/ \\/ ------\n",
        "    zeros = np.zeros([n, n], dtype=int)   \n",
        "    print(f'In exercise 5 zeros are {zeros}')\n",
        "\n",
        "    # ------ Place code above here /\\ /\\ /\\ ------\n",
        "\n",
        "    return zeros"
      ]
    },
    {
      "cell_type": "code",
      "execution_count": null,
      "metadata": {
        "id": "Pnb_m_8kjdn8"
      },
      "outputs": [],
      "source": [
        "def exercise06(n):\n",
        "    # The function exercise06() receives an integer n. Return an ndarray filled with ones of size n x n (n rows, n columns)\n",
        "\n",
        "\n",
        "    # ------ Place code below here \\/ \\/ \\/ ------\n",
        "    ones = np.ones([n, n], dtype=int)   \n",
        "    print(f'In exercise 6 ones are {ones}')\n",
        "\n",
        "\n",
        "    # ------ Place code above here /\\ /\\ /\\ ------\n",
        "    \n",
        "    return ones"
      ]
    },
    {
      "cell_type": "code",
      "execution_count": null,
      "metadata": {
        "id": "VbNfNBDLjdn-"
      },
      "outputs": [],
      "source": [
        "def exercise07(sd,m,s):\n",
        "    '''The function exercise07() receives integers sd, m, s \n",
        "    which are standard deviation, mean and size respectively. \n",
        "    Return an ndarray filled with s random numbers conforming to a normal \n",
        "    distribution of standard deviation = sd and mean = m\n",
        "    '''\n",
        "    \n",
        "    # ------ Place code below here \\/ \\/ \\/ ------\n",
        "\n",
        "    random_numbers = np.random.normal(m, sd, s)\n",
        "    \n",
        "    # ------ Place code above here /\\ /\\ /\\ ------\n",
        "    \n",
        "    return random_numbers"
      ]
    },
    {
      "cell_type": "code",
      "execution_count": null,
      "metadata": {
        "id": "ppb-O6KTjdoA"
      },
      "outputs": [],
      "source": [
        "def exercise08():\n",
        "    '''\n",
        "    Load the CSV data from https://tinyurl.com/y63q7okz into a DataFrame\n",
        "    # Return the following items:\n",
        "    - row_count - Total # of rows\n",
        "    - avg_sq_ft - Average square feet across all transactions\n",
        "    - df_zip_95670 - DataFrame containing all transactions in zip code 95670\n",
        "    - df_zip_not_95610 - DataFrame containing all transactions not in zip code 95610\n",
        "    '''\n",
        "\n",
        "\n",
        "    # ------ Place code below here \\/ \\/ \\/ ------\n",
        "    #read the data from the Sacramento real estate file\n",
        "    #df =  pd.read_csv(\"sacramentorealestatetransactions.csv\", header=0)\n",
        "    df =  pd.read_csv(\"https://tinyurl.com/y63q7okz\", header=0)\n",
        "    print(df.shape)\n",
        "    #print(df.head)\n",
        "    row_count = len(df) \n",
        "    avg_sq_ft = int(df['sq__ft'].sum()) / row_count\n",
        "    #print(f'row_count: {row_count}, avg_sq_ft: {avg_sq_ft}')\n",
        "\n",
        "    df_zip_95670 = df[df['zip'] == 95670]\n",
        "    df_zip_not_95610 = df[df['zip'] != 95610]\n",
        "\n",
        "    # ------ Place code above here /\\ /\\ /\\ ------\n",
        "\n",
        "    return df, row_count, avg_sq_ft, df_zip_95670, df_zip_not_95610\n"
      ]
    },
    {
      "cell_type": "code",
      "execution_count": null,
      "metadata": {
        "id": "d4jVc5oWjdoD"
      },
      "outputs": [],
      "source": [
        "def exercise10(n):\n",
        "    # Create a numpy identity matrix of size n\n",
        "    # ------ Place code below here \\/ \\/ \\/ ------\n",
        "    \n",
        "\n",
        "\n",
        "    # ------ Place code above here /\\ /\\ /\\ ------  \n",
        "    identity_matrix = None\n",
        "    return identity_matrix\n"
      ]
    },
    {
      "cell_type": "code",
      "execution_count": null,
      "metadata": {
        "id": "E4-vN9uSjdoE"
      },
      "outputs": [],
      "source": [
        "def exercise11(n):\n",
        "    '''\n",
        "    Using NumPy, create a single dimension array, array_1d, of size n containing integers 0 to n-1\n",
        "    Reshape the array. The reshaped array, array_reshaped, should be n/3 columns and 3 rows\n",
        "    '''\n",
        "    # ------ Place code below here \\/ \\/ \\/ ------\n",
        "\n",
        "\n",
        "    # ------ Place code above here /\\ /\\ /\\ ------  \n",
        "    array_1d, array_reshaped = None\n",
        "    return array_1d, array_reshaped\n"
      ]
    },
    {
      "cell_type": "code",
      "execution_count": null,
      "metadata": {
        "id": "KPpxiOUPjdoF"
      },
      "outputs": [],
      "source": [
        "def exercise12(n):\n",
        "    '''\n",
        "    Create a checkerboard NumPy matrix of size 2n x 2n using one line of code\n",
        "    A checkerboard matrix is a matrix with alternating 1s and 0s across rows and columns with the top left value equal to 1\n",
        "    '''\n",
        "    # ------ Place code below here \\/ \\/ \\/ ------\n",
        "    \n",
        "\n",
        "\n",
        "    # ------ Place code above here /\\ /\\ /\\ ------ \n",
        "\n",
        "    checkerboard_matrix = None\n",
        "    return checkerboard_matrix"
      ]
    },
    {
      "cell_type": "code",
      "execution_count": null,
      "metadata": {
        "id": "VllYCWtgjdoG"
      },
      "outputs": [],
      "source": [
        "def exercise13(n):\n",
        "    '''\n",
        "    Create a pandas Series, s, with n random integers between 0 and n, for n days starting from 1/1/2010 and plot the\n",
        "    cumulative sum on a  chart. The data range should be an index. pd.date_range() may help. \n",
        "    \n",
        "    '''\n",
        "    # ------ Place code below here \\/ \\/ \\/ ------\n",
        "\n",
        "\n",
        "   \n",
        "    # ------ Place code above here /\\ /\\ /\\ ------ \n",
        "    s = None\n",
        "    return s"
      ]
    },
    {
      "cell_type": "code",
      "execution_count": null,
      "metadata": {
        "id": "cxeoauVajdoG"
      },
      "outputs": [],
      "source": [
        "def exercise14(words):\n",
        "    '''\n",
        "    Exercise14() receives a Python list of words. Create and return a pandas DataFrame or Series that tabulates the length of \n",
        "    each word i.e. a list of the words hello, car, bye would produce a DataFrame with 3 rows and a column with the numbers 5,3,3\n",
        "    Using Series.map() and lambdas may help.\n",
        "    '''\n",
        "    # ------ Place code below here \\/ \\/ \\/ ------\n",
        "\n",
        "\n",
        "\n",
        "\n",
        "    # ------ Place code above here /\\ /\\ /\\ ------ \n",
        "    df = None\n",
        "    return df"
      ]
    },
    {
      "cell_type": "code",
      "execution_count": null,
      "metadata": {
        "id": "1qX5X9BLjdoH"
      },
      "outputs": [],
      "source": [
        "def exercise15():\n",
        "    '''\n",
        "    Use the real estate transaction DataFrame from Exercise 8 and extract into a new DataFrame every 5th row using iloc \n",
        "    and just the street address and zip code columns. This can be done with one line of code.\n",
        "    '''\n",
        "    # ------ Place code below here \\/ \\/ \\/ ------\n",
        "\n",
        "\n",
        "\n",
        "\n",
        "\n",
        "\n",
        "    # ------ Place code above here /\\ /\\ /\\ ------ \n",
        "    df = None\n",
        "    return df\n",
        "\n"
      ]
    },
    {
      "cell_type": "code",
      "execution_count": null,
      "metadata": {
        "id": "6ZqxRUAgjdoI"
      },
      "outputs": [],
      "source": [
        "class TestAssignment5(unittest.TestCase):\n",
        "    def test_exercise15(self):\n",
        "        print('Skipping exercise 15')\n",
        "        df = exercise15()\n",
        "        print(df)\n",
        "    \n",
        "    def test_exercise14(self):\n",
        "        print('Skipping exercise 14')\n",
        "        df = exercise14(['cat','frog','walrus','antelope'])\n",
        "        print(df)\n",
        "\n",
        "\n",
        "    def test_exercise13(self):\n",
        "        print('Testing exercise 13')\n",
        "        s= exercise13(1000)\n",
        "        self.assertEqual(s.index[0],pd.Timestamp('2010-01-01 00:00:00'))\n",
        "        self.assertEqual(len(s.index),1000)\n",
        "\n",
        "\n",
        "    def test_exercise12(self):\n",
        "        print('Testing exercise 12')\n",
        "        cm = exercise12(10)\n",
        "        self.assertEqual(cm.shape[0],20)\n",
        "        self.assertEqual(cm[0,0],1)\n",
        "        self.assertEqual(cm[0,1],0)\n",
        "        cm = exercise12(5)\n",
        "        self.assertEqual(cm.shape[0],10)\n",
        "        self.assertEqual(cm[0,0],1)\n",
        "        self.assertEqual(cm[0,1],0)        \n",
        "\n",
        "    def test_exercise11(self):\n",
        "        print('Testing exercise 11')\n",
        "        a1d, ar = exercise11(15)\n",
        "        self.assertEqual(a1d.shape[0],15)\n",
        "        self.assertEqual(ar.shape[0],3)\n",
        "        self.assertEqual(ar.shape[1],5)\n",
        "\n",
        "\n",
        "    def test_exercise10(self):\n",
        "        print('Testing exercise 10')\n",
        "        im = exercise10(10)\n",
        "        self.assertEqual(im.shape[0],10)\n",
        "        self.assertEqual(im.shape[1],10)     \n",
        "\n",
        "\n",
        "    def test_exercise08(self):\n",
        "        print('Testing exercise 8')\n",
        "        df, row_count, avg_sq_ft, df_zip_95670, df_zip_not_95610 = exercise08()\n",
        "        self.assertEqual(df.shape[0],985)\n",
        "        self.assertEqual(df.shape[1],12)\n",
        "        self.assertEqual(row_count,985)\n",
        "        self.assertAlmostEqual(avg_sq_ft,1314.91675127,2)\n",
        "        self.assertEqual(df_zip_95670.shape[0],21)\n",
        "        self.assertEqual(df_zip_not_95610.shape[0],978)\n",
        " \n",
        "    \n",
        "    def test_exercise07(self):\n",
        "        print('Testing exercise 7')\n",
        "        z = exercise07(10,5,100000)\n",
        "        self.assertEqual(z.shape[0], 100000)\n",
        "        self.assertLessEqual(np.average(z), 5.2)\n",
        "        self.assertGreaterEqual(np.average(z), 4.7)\n",
        "        z = exercise07(5,10,100000)\n",
        "        self.assertEqual(z.shape[0], 100000)\n",
        "        self.assertLessEqual(np.average(z), 10.2)\n",
        "        self.assertGreaterEqual(np.average(z), 9.7)\n",
        "\n",
        "\n",
        "    def test_exercise06(self):\n",
        "        print('Testing exercise 6')\n",
        "        z = exercise06(7).shape\n",
        "        self.assertEqual(z[0], 7)\n",
        "        self.assertEqual(z[1], 7)\n",
        "        z = exercise05(70).shape\n",
        "        self.assertEqual(z[0], 70)\n",
        "        self.assertEqual(z[1], 70)\n",
        "\n",
        "    def test_exercise05(self):\n",
        "        print('Testing exercise 5')\n",
        "        z = exercise05(7).shape\n",
        "        self.assertEqual(z[0], 7)\n",
        "        self.assertEqual(z[1], 7)\n",
        "        z = exercise05(70).shape\n",
        "        self.assertEqual(z[0], 70)\n",
        "        self.assertEqual(z[1], 70)\n",
        "\n",
        "    def test_exercise04(self):\n",
        "        print('Testing exercise 4')\n",
        "        array = np.array([[1,1,1,1,1],[0,2,0,0,1]])\n",
        "        sum = exercise04(array)\n",
        "        self.assertEqual(sum, 3)\n",
        "        array = np.array([[1,6,1,1,1],[0,2,0,0,1]])\n",
        "        sum = exercise04(array)\n",
        "        self.assertEqual(sum, 8)\n",
        "\n",
        "    def test_exercise03(self):\n",
        "        print('Testing exercise 3')\n",
        "        array = np.array([1,1,1,1,1])\n",
        "        sum = exercise03(array)\n",
        "        self.assertEqual(sum, 5)\n",
        "        array = np.array([2,4])\n",
        "        sum = exercise03(array)\n",
        "        self.assertEqual(sum, 6)\n",
        "\n",
        "    def test_exercise01(self):\n",
        "        print('Testing exercise 1')\n",
        "        m = exercise01().shape\n",
        "        self.assertEqual(m[0], 3)\n",
        "        self.assertEqual(m[1], 4)\n",
        "\n",
        "    def test_exercise02(self):\n",
        "        print('Testing exercise 2')\n",
        "        m = exercise02([1,2,3,4,5,6])\n",
        "        self.assertTrue(type(m) is np.ndarray)\n",
        "        self.assertEqual(m.shape[0], 6)"
      ]
    },
    {
      "cell_type": "code",
      "execution_count": null,
      "metadata": {
        "id": "y-HjfoPMjdoJ",
        "outputId": "995b059f-2f5f-4565-c89c-43f38533060b"
      },
      "outputs": [
        {
          "name": "stdout",
          "output_type": "stream",
          "text": [
            "Testing exercise 1\n",
            "Testing exercise 2\n",
            "<class 'numpy.ndarray'>\n",
            "Testing exercise 3\n",
            "In Exercise 3 sum is 5\n",
            "In Exercise 3 sum is 6\n",
            "Testing exercise 4\n",
            "The sum of column 2 at index 1 for [[1 1 1 1 1]\n",
            " [0 2 0 0 1]] is 3\n",
            "The sum of column 2 at index 1 for [[1 6 1 1 1]\n",
            " [0 2 0 0 1]] is 8\n",
            "Testing exercise 5\n",
            "In exercise 5 zeros are [[0 0 0 0 0 0 0]\n",
            " [0 0 0 0 0 0 0]\n",
            " [0 0 0 0 0 0 0]\n",
            " [0 0 0 0 0 0 0]\n",
            " [0 0 0 0 0 0 0]\n",
            " [0 0 0 0 0 0 0]\n",
            " [0 0 0 0 0 0 0]]\n",
            "In exercise 5 zeros are [[0 0 0 ... 0 0 0]\n",
            " [0 0 0 ... 0 0 0]\n",
            " [0 0 0 ... 0 0 0]\n",
            " ...\n",
            " [0 0 0 ... 0 0 0]\n",
            " [0 0 0 ... 0 0 0]\n",
            " [0 0 0 ... 0 0 0]]\n",
            "Testing exercise 6\n",
            "In exercise 6 ones are [[1 1 1 1 1 1 1]\n",
            " [1 1 1 1 1 1 1]\n",
            " [1 1 1 1 1 1 1]\n",
            " [1 1 1 1 1 1 1]\n",
            " [1 1 1 1 1 1 1]\n",
            " [1 1 1 1 1 1 1]\n",
            " [1 1 1 1 1 1 1]]\n",
            "In exercise 5 zeros are [[0 0 0 ... 0 0 0]\n",
            " [0 0 0 ... 0 0 0]\n",
            " [0 0 0 ... 0 0 0]\n",
            " ...\n",
            " [0 0 0 ... 0 0 0]\n",
            " [0 0 0 ... 0 0 0]\n",
            " [0 0 0 ... 0 0 0]]\n",
            "Testing exercise 7\n",
            "Testing exercise 8\n",
            "(985, 12)\n"
          ]
        }
      ],
      "source": [
        "ta = TestAssignment5()\n",
        "ta.test_exercise01()\n",
        "ta.test_exercise02()\n",
        "ta.test_exercise03()\n",
        "ta.test_exercise04()\n",
        "ta.test_exercise05()\n",
        "ta.test_exercise06()\n",
        "ta.test_exercise07()\n",
        "ta.test_exercise08()"
      ]
    }
  ],
  "metadata": {
    "kernelspec": {
      "display_name": "Python 3.9.7 64-bit",
      "language": "python",
      "name": "python3"
    },
    "language_info": {
      "codemirror_mode": {
        "name": "ipython",
        "version": 3
      },
      "file_extension": ".py",
      "mimetype": "text/x-python",
      "name": "python",
      "nbconvert_exporter": "python",
      "pygments_lexer": "ipython3",
      "version": "3.9.7"
    },
    "orig_nbformat": 4,
    "vscode": {
      "interpreter": {
        "hash": "4b1c61358481172c526d27716465e0b51e2b5646bdde9446596b85a415179c5b"
      }
    },
    "colab": {
      "provenance": [],
      "include_colab_link": true
    }
  },
  "nbformat": 4,
  "nbformat_minor": 0
}